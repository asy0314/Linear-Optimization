{
  "nbformat": 4,
  "nbformat_minor": 0,
  "metadata": {
    "colab": {
      "provenance": []
    },
    "kernelspec": {
      "name": "python3",
      "display_name": "Python 3"
    },
    "language_info": {
      "name": "python"
    }
  },
  "cells": [
    {
      "cell_type": "markdown",
      "source": [
        "# Revised Simplex Algorithm for minimization problem by Sunyoung An"
      ],
      "metadata": {
        "id": "wImTRD_M5rbT"
      }
    },
    {
      "cell_type": "code",
      "execution_count": null,
      "metadata": {
        "id": "y2E3qqvw5Ts6"
      },
      "outputs": [],
      "source": [
        "import numpy as np\n",
        "import matplotlib.pyplot as plt\n",
        "import seaborn as sns"
      ]
    },
    {
      "cell_type": "code",
      "source": [
        "np.set_printoptions(threshold=np.inf, linewidth=np.inf, suppress=True)\n",
        "sns.set_style('darkgrid')"
      ],
      "metadata": {
        "id": "-kLb2n9h52mV"
      },
      "execution_count": null,
      "outputs": []
    },
    {
      "cell_type": "code",
      "source": [
        "class RevisedSimplex(object):\n",
        "\n",
        "    def __init__(self, A: np.ndarray, b_t: np.ndarray, c_t: np.ndarray, basis_inds: np.ndarray, rule: str = 'bland', verbose: bool = False) -> None:\n",
        "        self.A = A\n",
        "        self.b_t = b_t.reshape(1, -1)\n",
        "        self.c_t = c_t.reshape(1, -1)\n",
        "        self.basis_inds = np.copy(basis_inds)\n",
        "        assert rule == 'dantzig' or rule == 'bland'\n",
        "        self.rule = rule\n",
        "        self.verbose = verbose\n",
        "\n",
        "        self.solution = None\n",
        "        self.history_basis = [self.basis_inds + 1]\n",
        "\n",
        "        if self.verbose:\n",
        "            print('A')\n",
        "            print(self.A)\n",
        "            print('b')\n",
        "            print(self.b_t)\n",
        "            print('c')\n",
        "            print(self.c_t)\n",
        "            print('Initial basis')\n",
        "            print(self.history_basis[0])\n",
        "\n",
        "    def step(self) -> str:\n",
        "        nonbasis_inds = np.array([i for i in range(self.c_t.shape[1]) if i not in self.basis_inds])\n",
        "\n",
        "        Ab = self.A[:, self.basis_inds]\n",
        "        Ab_inv = np.linalg.inv(Ab)\n",
        "\n",
        "        xb = np.matmul(Ab_inv, self.b_t.reshape(-1))\n",
        "\n",
        "        cb_t = self.c_t[:, self.basis_inds]\n",
        "\n",
        "        p_t = np.matmul(cb_t, Ab_inv)\n",
        "\n",
        "        cNbar_t = self.c_t[:, nonbasis_inds] - np.matmul(p_t, self.A[:, nonbasis_inds])\n",
        "\n",
        "        if np.all(cNbar_t >= 0):\n",
        "            self.solution = np.zeros_like(self.c_t).reshape(-1).astype(float)\n",
        "            self.solution[self.basis_inds] = xb\n",
        "            self.history_basis = np.stack(self.history_basis, axis=0)\n",
        "            return \"optimal\"  # we should treat properly 'optimal' and 'unbounded'\n",
        "\n",
        "        # enters basis\n",
        "        if self.rule == 'dantzig':\n",
        "            enter_idx = nonbasis_inds[np.argmin(cNbar_t)]\n",
        "        elif self.rule == 'bland':\n",
        "            enter_idx = nonbasis_inds[np.argmax(cNbar_t < 0)]  # argmax just to find the first occurence of cNbar_t < 0\n",
        "        else:\n",
        "            raise ValueError\n",
        "\n",
        "        # leaves basis\n",
        "        Abar_j = np.matmul(Ab_inv, self.A[:, enter_idx])\n",
        "\n",
        "        if np.all(Abar_j <= 0):\n",
        "            return 'unbounded'\n",
        "\n",
        "        positive_idx = np.nonzero(Abar_j > 0)[0]\n",
        "        theta = xb[positive_idx] / Abar_j[positive_idx]  # if the clipped a_ij is 0, theta_i will be np.inf\n",
        "        leave_idx = self.basis_inds[positive_idx[np.argmin(theta)]]\n",
        "\n",
        "        # update basis\n",
        "        self.basis_inds[self.basis_inds == leave_idx] = enter_idx\n",
        "        self.history_basis.append(self.basis_inds + 1)\n",
        "\n",
        "        return 'continue'\n",
        "\n",
        "    def solve(self) -> None:\n",
        "        if self.verbose:\n",
        "            print()\n",
        "            print('Start!')\n",
        "\n",
        "        result = 'continue'\n",
        "        while result == 'continue':\n",
        "            result = self.step()\n",
        "\n",
        "        if self.verbose:\n",
        "            print('Result: {}'.format(result))\n",
        "            if result == 'optimal':\n",
        "                print('The solution found:')\n",
        "                print(self.solution)\n",
        "                print('Basis Path')\n",
        "                print(self.history_basis)\n",
        "\n",
        "        return result\n"
      ],
      "metadata": {
        "id": "Wg0PYhqP52o3"
      },
      "execution_count": null,
      "outputs": []
    },
    {
      "cell_type": "markdown",
      "source": [
        "# Define the problem"
      ],
      "metadata": {
        "id": "TgdIAxJr7Sp6"
      }
    },
    {
      "cell_type": "code",
      "source": [
        "# convert the LP into standard from by adding slack variables.\n",
        "N = 8\n",
        "c = []\n",
        "A = []\n",
        "b = []\n",
        "for i in range(1, N+1):\n",
        "    c.append(-3**(N-i))\n",
        "    A.append([0]*(N*2))\n",
        "    A[i-1][i-1] = 1\n",
        "    A[i-1][i+7] = 1\n",
        "    for j in range(i-1):\n",
        "        A[i-1][j] = 2*3**(i-j-1)\n",
        "    b.append(3**(2*i-2))\n",
        "\n",
        "c += [0]*8"
      ],
      "metadata": {
        "id": "JCZII1qJ52rb"
      },
      "execution_count": null,
      "outputs": []
    },
    {
      "cell_type": "code",
      "source": [
        "A"
      ],
      "metadata": {
        "colab": {
          "base_uri": "https://localhost:8080/"
        },
        "id": "Y-4sYA5W52uG",
        "outputId": "ae453994-3371-4053-de0c-92a40b5ec5c8"
      },
      "execution_count": null,
      "outputs": [
        {
          "output_type": "execute_result",
          "data": {
            "text/plain": [
              "[[1, 0, 0, 0, 0, 0, 0, 0, 1, 0, 0, 0, 0, 0, 0, 0],\n",
              " [6, 1, 0, 0, 0, 0, 0, 0, 0, 1, 0, 0, 0, 0, 0, 0],\n",
              " [18, 6, 1, 0, 0, 0, 0, 0, 0, 0, 1, 0, 0, 0, 0, 0],\n",
              " [54, 18, 6, 1, 0, 0, 0, 0, 0, 0, 0, 1, 0, 0, 0, 0],\n",
              " [162, 54, 18, 6, 1, 0, 0, 0, 0, 0, 0, 0, 1, 0, 0, 0],\n",
              " [486, 162, 54, 18, 6, 1, 0, 0, 0, 0, 0, 0, 0, 1, 0, 0],\n",
              " [1458, 486, 162, 54, 18, 6, 1, 0, 0, 0, 0, 0, 0, 0, 1, 0],\n",
              " [4374, 1458, 486, 162, 54, 18, 6, 1, 0, 0, 0, 0, 0, 0, 0, 1]]"
            ]
          },
          "metadata": {},
          "execution_count": 5
        }
      ]
    },
    {
      "cell_type": "code",
      "source": [
        "b"
      ],
      "metadata": {
        "colab": {
          "base_uri": "https://localhost:8080/"
        },
        "id": "E775NSCc52wl",
        "outputId": "37f7e98e-8529-41b6-e8cf-6e3affe953e2"
      },
      "execution_count": null,
      "outputs": [
        {
          "output_type": "execute_result",
          "data": {
            "text/plain": [
              "[1, 9, 81, 729, 6561, 59049, 531441, 4782969]"
            ]
          },
          "metadata": {},
          "execution_count": 6
        }
      ]
    },
    {
      "cell_type": "code",
      "source": [
        "c"
      ],
      "metadata": {
        "colab": {
          "base_uri": "https://localhost:8080/"
        },
        "id": "fBj7z2aT52zf",
        "outputId": "77fef325-eb4d-451f-a1db-706f4eba7d46"
      },
      "execution_count": null,
      "outputs": [
        {
          "output_type": "execute_result",
          "data": {
            "text/plain": [
              "[-2187, -729, -243, -81, -27, -9, -3, -1, 0, 0, 0, 0, 0, 0, 0, 0]"
            ]
          },
          "metadata": {},
          "execution_count": 7
        }
      ]
    },
    {
      "cell_type": "code",
      "source": [
        "A = np.array(A)\n",
        "b = np.array(b)\n",
        "c = np.array(c)"
      ],
      "metadata": {
        "id": "RqHLn1KM7286"
      },
      "execution_count": null,
      "outputs": []
    },
    {
      "cell_type": "markdown",
      "source": [
        "# Example 1: Revised simplex using the slack variables as the initial basis"
      ],
      "metadata": {
        "id": "pD4ns04_Bili"
      }
    },
    {
      "cell_type": "code",
      "source": [
        "basis_inds = [9, 10, 11, 12, 13, 14, 15, 16]\n",
        "basis_inds = np.array(basis_inds) - 1  # zero-based"
      ],
      "metadata": {
        "id": "fW3KINDmB5ry"
      },
      "execution_count": null,
      "outputs": []
    },
    {
      "cell_type": "markdown",
      "source": [
        "# Dantzig's Pivoting Rules\n",
        "\n",
        "Enter: the smallest negative reduced cost\n",
        "\n",
        "Leave: min-theta, and if there is a min-theta tie, pick the variable with smallest index"
      ],
      "metadata": {
        "id": "q5M0GhNu_a5T"
      }
    },
    {
      "cell_type": "code",
      "source": [
        "rsm_dantzig = RevisedSimplex(A, b, c, basis_inds, rule='dantzig', verbose=True)\n",
        "_ = rsm_dantzig.solve()"
      ],
      "metadata": {
        "colab": {
          "base_uri": "https://localhost:8080/"
        },
        "id": "xjComZNT77Pl",
        "outputId": "d06b08f7-4208-468d-84a6-3072c142c549"
      },
      "execution_count": null,
      "outputs": [
        {
          "output_type": "stream",
          "name": "stdout",
          "text": [
            "A\n",
            "[[   1    0    0    0    0    0    0    0    1    0    0    0    0    0    0    0]\n",
            " [   6    1    0    0    0    0    0    0    0    1    0    0    0    0    0    0]\n",
            " [  18    6    1    0    0    0    0    0    0    0    1    0    0    0    0    0]\n",
            " [  54   18    6    1    0    0    0    0    0    0    0    1    0    0    0    0]\n",
            " [ 162   54   18    6    1    0    0    0    0    0    0    0    1    0    0    0]\n",
            " [ 486  162   54   18    6    1    0    0    0    0    0    0    0    1    0    0]\n",
            " [1458  486  162   54   18    6    1    0    0    0    0    0    0    0    1    0]\n",
            " [4374 1458  486  162   54   18    6    1    0    0    0    0    0    0    0    1]]\n",
            "b\n",
            "[[      1       9      81     729    6561   59049  531441 4782969]]\n",
            "c\n",
            "[[-2187  -729  -243   -81   -27    -9    -3    -1     0     0     0     0     0     0     0     0]]\n",
            "Initial basis\n",
            "[ 9 10 11 12 13 14 15 16]\n",
            "\n",
            "Start!\n",
            "Result: optimal\n",
            "The solution found:\n",
            "[      0.       0.       0.       0.       0.       0.       0. 4782969.       1.       9.      81.     729.    6561.   59049.  531441.       0.]\n",
            "Basis Path\n",
            "[[ 9 10 11 12 13 14 15 16]\n",
            " [ 1 10 11 12 13 14 15 16]\n",
            " [ 1  2 11 12 13 14 15 16]\n",
            " [ 9  2 11 12 13 14 15 16]\n",
            " [ 9  2  3 12 13 14 15 16]\n",
            " [ 1  2  3 12 13 14 15 16]\n",
            " [ 1 10  3 12 13 14 15 16]\n",
            " [ 9 10  3 12 13 14 15 16]\n",
            " [ 9 10  3  4 13 14 15 16]\n",
            " [ 1 10  3  4 13 14 15 16]\n",
            " [ 1  2  3  4 13 14 15 16]\n",
            " [ 9  2  3  4 13 14 15 16]\n",
            " [ 9  2 11  4 13 14 15 16]\n",
            " [ 1  2 11  4 13 14 15 16]\n",
            " [ 1 10 11  4 13 14 15 16]\n",
            " [ 9 10 11  4 13 14 15 16]\n",
            " [ 9 10 11  4  5 14 15 16]\n",
            " [ 1 10 11  4  5 14 15 16]\n",
            " [ 1  2 11  4  5 14 15 16]\n",
            " [ 9  2 11  4  5 14 15 16]\n",
            " [ 9  2  3  4  5 14 15 16]\n",
            " [ 1  2  3  4  5 14 15 16]\n",
            " [ 1 10  3  4  5 14 15 16]\n",
            " [ 9 10  3  4  5 14 15 16]\n",
            " [ 9 10  3 12  5 14 15 16]\n",
            " [ 1 10  3 12  5 14 15 16]\n",
            " [ 1  2  3 12  5 14 15 16]\n",
            " [ 9  2  3 12  5 14 15 16]\n",
            " [ 9  2 11 12  5 14 15 16]\n",
            " [ 1  2 11 12  5 14 15 16]\n",
            " [ 1 10 11 12  5 14 15 16]\n",
            " [ 9 10 11 12  5 14 15 16]\n",
            " [ 9 10 11 12  5  6 15 16]\n",
            " [ 1 10 11 12  5  6 15 16]\n",
            " [ 1  2 11 12  5  6 15 16]\n",
            " [ 9  2 11 12  5  6 15 16]\n",
            " [ 9  2  3 12  5  6 15 16]\n",
            " [ 1  2  3 12  5  6 15 16]\n",
            " [ 1 10  3 12  5  6 15 16]\n",
            " [ 9 10  3 12  5  6 15 16]\n",
            " [ 9 10  3  4  5  6 15 16]\n",
            " [ 1 10  3  4  5  6 15 16]\n",
            " [ 1  2  3  4  5  6 15 16]\n",
            " [ 9  2  3  4  5  6 15 16]\n",
            " [ 9  2 11  4  5  6 15 16]\n",
            " [ 1  2 11  4  5  6 15 16]\n",
            " [ 1 10 11  4  5  6 15 16]\n",
            " [ 9 10 11  4  5  6 15 16]\n",
            " [ 9 10 11  4 13  6 15 16]\n",
            " [ 1 10 11  4 13  6 15 16]\n",
            " [ 1  2 11  4 13  6 15 16]\n",
            " [ 9  2 11  4 13  6 15 16]\n",
            " [ 9  2  3  4 13  6 15 16]\n",
            " [ 1  2  3  4 13  6 15 16]\n",
            " [ 1 10  3  4 13  6 15 16]\n",
            " [ 9 10  3  4 13  6 15 16]\n",
            " [ 9 10  3 12 13  6 15 16]\n",
            " [ 1 10  3 12 13  6 15 16]\n",
            " [ 1  2  3 12 13  6 15 16]\n",
            " [ 9  2  3 12 13  6 15 16]\n",
            " [ 9  2 11 12 13  6 15 16]\n",
            " [ 1  2 11 12 13  6 15 16]\n",
            " [ 1 10 11 12 13  6 15 16]\n",
            " [ 9 10 11 12 13  6 15 16]\n",
            " [ 9 10 11 12 13  6  7 16]\n",
            " [ 1 10 11 12 13  6  7 16]\n",
            " [ 1  2 11 12 13  6  7 16]\n",
            " [ 9  2 11 12 13  6  7 16]\n",
            " [ 9  2  3 12 13  6  7 16]\n",
            " [ 1  2  3 12 13  6  7 16]\n",
            " [ 1 10  3 12 13  6  7 16]\n",
            " [ 9 10  3 12 13  6  7 16]\n",
            " [ 9 10  3  4 13  6  7 16]\n",
            " [ 1 10  3  4 13  6  7 16]\n",
            " [ 1  2  3  4 13  6  7 16]\n",
            " [ 9  2  3  4 13  6  7 16]\n",
            " [ 9  2 11  4 13  6  7 16]\n",
            " [ 1  2 11  4 13  6  7 16]\n",
            " [ 1 10 11  4 13  6  7 16]\n",
            " [ 9 10 11  4 13  6  7 16]\n",
            " [ 9 10 11  4  5  6  7 16]\n",
            " [ 1 10 11  4  5  6  7 16]\n",
            " [ 1  2 11  4  5  6  7 16]\n",
            " [ 9  2 11  4  5  6  7 16]\n",
            " [ 9  2  3  4  5  6  7 16]\n",
            " [ 1  2  3  4  5  6  7 16]\n",
            " [ 1 10  3  4  5  6  7 16]\n",
            " [ 9 10  3  4  5  6  7 16]\n",
            " [ 9 10  3 12  5  6  7 16]\n",
            " [ 1 10  3 12  5  6  7 16]\n",
            " [ 1  2  3 12  5  6  7 16]\n",
            " [ 9  2  3 12  5  6  7 16]\n",
            " [ 9  2 11 12  5  6  7 16]\n",
            " [ 1  2 11 12  5  6  7 16]\n",
            " [ 1 10 11 12  5  6  7 16]\n",
            " [ 9 10 11 12  5  6  7 16]\n",
            " [ 9 10 11 12  5 14  7 16]\n",
            " [ 1 10 11 12  5 14  7 16]\n",
            " [ 1  2 11 12  5 14  7 16]\n",
            " [ 9  2 11 12  5 14  7 16]\n",
            " [ 9  2  3 12  5 14  7 16]\n",
            " [ 1  2  3 12  5 14  7 16]\n",
            " [ 1 10  3 12  5 14  7 16]\n",
            " [ 9 10  3 12  5 14  7 16]\n",
            " [ 9 10  3  4  5 14  7 16]\n",
            " [ 1 10  3  4  5 14  7 16]\n",
            " [ 1  2  3  4  5 14  7 16]\n",
            " [ 9  2  3  4  5 14  7 16]\n",
            " [ 9  2 11  4  5 14  7 16]\n",
            " [ 1  2 11  4  5 14  7 16]\n",
            " [ 1 10 11  4  5 14  7 16]\n",
            " [ 9 10 11  4  5 14  7 16]\n",
            " [ 9 10 11  4 13 14  7 16]\n",
            " [ 1 10 11  4 13 14  7 16]\n",
            " [ 1  2 11  4 13 14  7 16]\n",
            " [ 9  2 11  4 13 14  7 16]\n",
            " [ 9  2  3  4 13 14  7 16]\n",
            " [ 1  2  3  4 13 14  7 16]\n",
            " [ 1 10  3  4 13 14  7 16]\n",
            " [ 9 10  3  4 13 14  7 16]\n",
            " [ 9 10  3 12 13 14  7 16]\n",
            " [ 1 10  3 12 13 14  7 16]\n",
            " [ 1  2  3 12 13 14  7 16]\n",
            " [ 9  2  3 12 13 14  7 16]\n",
            " [ 9  2 11 12 13 14  7 16]\n",
            " [ 1  2 11 12 13 14  7 16]\n",
            " [ 1 10 11 12 13 14  7 16]\n",
            " [ 9 10 11 12 13 14  7 16]\n",
            " [ 9 10 11 12 13 14  7  8]\n",
            " [ 1 10 11 12 13 14  7  8]\n",
            " [ 1  2 11 12 13 14  7  8]\n",
            " [ 9  2 11 12 13 14  7  8]\n",
            " [ 9  2  3 12 13 14  7  8]\n",
            " [ 1  2  3 12 13 14  7  8]\n",
            " [ 1 10  3 12 13 14  7  8]\n",
            " [ 9 10  3 12 13 14  7  8]\n",
            " [ 9 10  3  4 13 14  7  8]\n",
            " [ 1 10  3  4 13 14  7  8]\n",
            " [ 1  2  3  4 13 14  7  8]\n",
            " [ 9  2  3  4 13 14  7  8]\n",
            " [ 9  2 11  4 13 14  7  8]\n",
            " [ 1  2 11  4 13 14  7  8]\n",
            " [ 1 10 11  4 13 14  7  8]\n",
            " [ 9 10 11  4 13 14  7  8]\n",
            " [ 9 10 11  4  5 14  7  8]\n",
            " [ 1 10 11  4  5 14  7  8]\n",
            " [ 1  2 11  4  5 14  7  8]\n",
            " [ 9  2 11  4  5 14  7  8]\n",
            " [ 9  2  3  4  5 14  7  8]\n",
            " [ 1  2  3  4  5 14  7  8]\n",
            " [ 1 10  3  4  5 14  7  8]\n",
            " [ 9 10  3  4  5 14  7  8]\n",
            " [ 9 10  3 12  5 14  7  8]\n",
            " [ 1 10  3 12  5 14  7  8]\n",
            " [ 1  2  3 12  5 14  7  8]\n",
            " [ 9  2  3 12  5 14  7  8]\n",
            " [ 9  2 11 12  5 14  7  8]\n",
            " [ 1  2 11 12  5 14  7  8]\n",
            " [ 1 10 11 12  5 14  7  8]\n",
            " [ 9 10 11 12  5 14  7  8]\n",
            " [ 9 10 11 12  5  6  7  8]\n",
            " [ 1 10 11 12  5  6  7  8]\n",
            " [ 1  2 11 12  5  6  7  8]\n",
            " [ 9  2 11 12  5  6  7  8]\n",
            " [ 9  2  3 12  5  6  7  8]\n",
            " [ 1  2  3 12  5  6  7  8]\n",
            " [ 1 10  3 12  5  6  7  8]\n",
            " [ 9 10  3 12  5  6  7  8]\n",
            " [ 9 10  3  4  5  6  7  8]\n",
            " [ 1 10  3  4  5  6  7  8]\n",
            " [ 1  2  3  4  5  6  7  8]\n",
            " [ 9  2  3  4  5  6  7  8]\n",
            " [ 9  2 11  4  5  6  7  8]\n",
            " [ 1  2 11  4  5  6  7  8]\n",
            " [ 1 10 11  4  5  6  7  8]\n",
            " [ 9 10 11  4  5  6  7  8]\n",
            " [ 9 10 11  4 13  6  7  8]\n",
            " [ 1 10 11  4 13  6  7  8]\n",
            " [ 1  2 11  4 13  6  7  8]\n",
            " [ 9  2 11  4 13  6  7  8]\n",
            " [ 9  2  3  4 13  6  7  8]\n",
            " [ 1  2  3  4 13  6  7  8]\n",
            " [ 1 10  3  4 13  6  7  8]\n",
            " [ 9 10  3  4 13  6  7  8]\n",
            " [ 9 10  3 12 13  6  7  8]\n",
            " [ 1 10  3 12 13  6  7  8]\n",
            " [ 1  2  3 12 13  6  7  8]\n",
            " [ 9  2  3 12 13  6  7  8]\n",
            " [ 9  2 11 12 13  6  7  8]\n",
            " [ 1  2 11 12 13  6  7  8]\n",
            " [ 1 10 11 12 13  6  7  8]\n",
            " [ 9 10 11 12 13  6  7  8]\n",
            " [ 9 10 11 12 13  6 15  8]\n",
            " [ 1 10 11 12 13  6 15  8]\n",
            " [ 1  2 11 12 13  6 15  8]\n",
            " [ 9  2 11 12 13  6 15  8]\n",
            " [ 9  2  3 12 13  6 15  8]\n",
            " [ 1  2  3 12 13  6 15  8]\n",
            " [ 1 10  3 12 13  6 15  8]\n",
            " [ 9 10  3 12 13  6 15  8]\n",
            " [ 9 10  3  4 13  6 15  8]\n",
            " [ 1 10  3  4 13  6 15  8]\n",
            " [ 1  2  3  4 13  6 15  8]\n",
            " [ 9  2  3  4 13  6 15  8]\n",
            " [ 9  2 11  4 13  6 15  8]\n",
            " [ 1  2 11  4 13  6 15  8]\n",
            " [ 1 10 11  4 13  6 15  8]\n",
            " [ 9 10 11  4 13  6 15  8]\n",
            " [ 9 10 11  4  5  6 15  8]\n",
            " [ 1 10 11  4  5  6 15  8]\n",
            " [ 1  2 11  4  5  6 15  8]\n",
            " [ 9  2 11  4  5  6 15  8]\n",
            " [ 9  2  3  4  5  6 15  8]\n",
            " [ 1  2  3  4  5  6 15  8]\n",
            " [ 1 10  3  4  5  6 15  8]\n",
            " [ 9 10  3  4  5  6 15  8]\n",
            " [ 9 10  3 12  5  6 15  8]\n",
            " [ 1 10  3 12  5  6 15  8]\n",
            " [ 1  2  3 12  5  6 15  8]\n",
            " [ 9  2  3 12  5  6 15  8]\n",
            " [ 9  2 11 12  5  6 15  8]\n",
            " [ 1  2 11 12  5  6 15  8]\n",
            " [ 1 10 11 12  5  6 15  8]\n",
            " [ 9 10 11 12  5  6 15  8]\n",
            " [ 9 10 11 12  5 14 15  8]\n",
            " [ 1 10 11 12  5 14 15  8]\n",
            " [ 1  2 11 12  5 14 15  8]\n",
            " [ 9  2 11 12  5 14 15  8]\n",
            " [ 9  2  3 12  5 14 15  8]\n",
            " [ 1  2  3 12  5 14 15  8]\n",
            " [ 1 10  3 12  5 14 15  8]\n",
            " [ 9 10  3 12  5 14 15  8]\n",
            " [ 9 10  3  4  5 14 15  8]\n",
            " [ 1 10  3  4  5 14 15  8]\n",
            " [ 1  2  3  4  5 14 15  8]\n",
            " [ 9  2  3  4  5 14 15  8]\n",
            " [ 9  2 11  4  5 14 15  8]\n",
            " [ 1  2 11  4  5 14 15  8]\n",
            " [ 1 10 11  4  5 14 15  8]\n",
            " [ 9 10 11  4  5 14 15  8]\n",
            " [ 9 10 11  4 13 14 15  8]\n",
            " [ 1 10 11  4 13 14 15  8]\n",
            " [ 1  2 11  4 13 14 15  8]\n",
            " [ 9  2 11  4 13 14 15  8]\n",
            " [ 9  2  3  4 13 14 15  8]\n",
            " [ 1  2  3  4 13 14 15  8]\n",
            " [ 1 10  3  4 13 14 15  8]\n",
            " [ 9 10  3  4 13 14 15  8]\n",
            " [ 9 10  3 12 13 14 15  8]\n",
            " [ 1 10  3 12 13 14 15  8]\n",
            " [ 1  2  3 12 13 14 15  8]\n",
            " [ 9  2  3 12 13 14 15  8]\n",
            " [ 9  2 11 12 13 14 15  8]\n",
            " [ 1  2 11 12 13 14 15  8]\n",
            " [ 1 10 11 12 13 14 15  8]\n",
            " [ 9 10 11 12 13 14 15  8]]\n"
          ]
        }
      ]
    },
    {
      "cell_type": "markdown",
      "source": [
        "# Bland's Pivoting Rules\n",
        "\n",
        "Enter/Leave: Among valid, the smallest variable index"
      ],
      "metadata": {
        "id": "dxtWb5bb_rsd"
      }
    },
    {
      "cell_type": "code",
      "source": [
        "rsm_bland = RevisedSimplex(A, b, c, basis_inds, rule='bland', verbose=True)\n",
        "_ = rsm_bland.solve()"
      ],
      "metadata": {
        "colab": {
          "base_uri": "https://localhost:8080/"
        },
        "id": "BKYeAeW6_oX1",
        "outputId": "7c5d8bcc-07a0-42f3-c96d-6a8443dd9eb8"
      },
      "execution_count": null,
      "outputs": [
        {
          "output_type": "stream",
          "name": "stdout",
          "text": [
            "A\n",
            "[[   1    0    0    0    0    0    0    0    1    0    0    0    0    0    0    0]\n",
            " [   6    1    0    0    0    0    0    0    0    1    0    0    0    0    0    0]\n",
            " [  18    6    1    0    0    0    0    0    0    0    1    0    0    0    0    0]\n",
            " [  54   18    6    1    0    0    0    0    0    0    0    1    0    0    0    0]\n",
            " [ 162   54   18    6    1    0    0    0    0    0    0    0    1    0    0    0]\n",
            " [ 486  162   54   18    6    1    0    0    0    0    0    0    0    1    0    0]\n",
            " [1458  486  162   54   18    6    1    0    0    0    0    0    0    0    1    0]\n",
            " [4374 1458  486  162   54   18    6    1    0    0    0    0    0    0    0    1]]\n",
            "b\n",
            "[[      1       9      81     729    6561   59049  531441 4782969]]\n",
            "c\n",
            "[[-2187  -729  -243   -81   -27    -9    -3    -1     0     0     0     0     0     0     0     0]]\n",
            "Initial basis\n",
            "[ 9 10 11 12 13 14 15 16]\n",
            "\n",
            "Start!\n",
            "Result: optimal\n",
            "The solution found:\n",
            "[      0.       0.       0.       0.       0.       0.       0. 4782969.       1.       9.      81.     729.    6561.   59049.  531441.       0.]\n",
            "Basis Path\n",
            "[[ 9 10 11 12 13 14 15 16]\n",
            " [ 1 10 11 12 13 14 15 16]\n",
            " [ 1  2 11 12 13 14 15 16]\n",
            " [ 1  2  3 12 13 14 15 16]\n",
            " [ 1  2  3  4 13 14 15 16]\n",
            " [ 1  2  3  4  5 14 15 16]\n",
            " [ 1  2  3  4  5  6 15 16]\n",
            " [ 1  2  3  4  5  6  7 16]\n",
            " [ 1  2  3  4  5  6  7  8]\n",
            " [ 9  2  3  4  5  6  7  8]\n",
            " [ 9  2 11  4  5  6  7  8]\n",
            " [ 1  2 11  4  5  6  7  8]\n",
            " [ 1 10 11  4  5  6  7  8]\n",
            " [ 9 10 11  4  5  6  7  8]\n",
            " [ 9 10 11  4 13  6  7  8]\n",
            " [ 1 10 11  4 13  6  7  8]\n",
            " [ 1  2 11  4 13  6  7  8]\n",
            " [ 1  2  3  4 13  6  7  8]\n",
            " [ 1 10  3  4 13  6  7  8]\n",
            " [ 9 10  3  4 13  6  7  8]\n",
            " [ 9 10  3 12 13  6  7  8]\n",
            " [ 1 10  3 12 13  6  7  8]\n",
            " [ 1  2  3 12 13  6  7  8]\n",
            " [ 9  2  3 12 13  6  7  8]\n",
            " [ 9  2 11 12 13  6  7  8]\n",
            " [ 1  2 11 12 13  6  7  8]\n",
            " [ 1 10 11 12 13  6  7  8]\n",
            " [ 9 10 11 12 13  6  7  8]\n",
            " [ 9 10 11 12 13  6 15  8]\n",
            " [ 1 10 11 12 13  6 15  8]\n",
            " [ 1  2 11 12 13  6 15  8]\n",
            " [ 1  2  3 12 13  6 15  8]\n",
            " [ 1  2  3  4 13  6 15  8]\n",
            " [ 1  2  3  4  5  6 15  8]\n",
            " [ 1 10  3  4  5  6 15  8]\n",
            " [ 9 10  3  4  5  6 15  8]\n",
            " [ 9 10  3 12  5  6 15  8]\n",
            " [ 1 10  3 12  5  6 15  8]\n",
            " [ 1  2  3 12  5  6 15  8]\n",
            " [ 9  2  3 12  5  6 15  8]\n",
            " [ 9  2 11 12  5  6 15  8]\n",
            " [ 1  2 11 12  5  6 15  8]\n",
            " [ 1 10 11 12  5  6 15  8]\n",
            " [ 9 10 11 12  5  6 15  8]\n",
            " [ 9 10 11 12  5 14 15  8]\n",
            " [ 1 10 11 12  5 14 15  8]\n",
            " [ 1  2 11 12  5 14 15  8]\n",
            " [ 1  2  3 12  5 14 15  8]\n",
            " [ 1  2  3  4  5 14 15  8]\n",
            " [ 9  2  3  4  5 14 15  8]\n",
            " [ 9  2 11  4  5 14 15  8]\n",
            " [ 1  2 11  4  5 14 15  8]\n",
            " [ 1 10 11  4  5 14 15  8]\n",
            " [ 9 10 11  4  5 14 15  8]\n",
            " [ 9 10 11  4 13 14 15  8]\n",
            " [ 1 10 11  4 13 14 15  8]\n",
            " [ 1  2 11  4 13 14 15  8]\n",
            " [ 1  2  3  4 13 14 15  8]\n",
            " [ 1 10  3  4 13 14 15  8]\n",
            " [ 9 10  3  4 13 14 15  8]\n",
            " [ 9 10  3 12 13 14 15  8]\n",
            " [ 1 10  3 12 13 14 15  8]\n",
            " [ 1  2  3 12 13 14 15  8]\n",
            " [ 9  2  3 12 13 14 15  8]\n",
            " [ 9  2 11 12 13 14 15  8]\n",
            " [ 1  2 11 12 13 14 15  8]\n",
            " [ 1 10 11 12 13 14 15  8]\n",
            " [ 9 10 11 12 13 14 15  8]]\n"
          ]
        }
      ]
    },
    {
      "cell_type": "code",
      "source": [
        "## to check the correctness of my implementation\n",
        "from scipy.optimize import linprog\n",
        "# Note that by default lb = 0 and ub = None unless specified with bounds.\n",
        "result_sp = linprog(c=c, A_eq=A, b_eq=b)\n",
        "print('Reference SciPy Solution:')\n",
        "print(result_sp.x)\n",
        "print('My solution using Dantzig’s pivoting rules:')\n",
        "print(rsm_dantzig.solution)\n",
        "print('My solution using Bland’s pivoting rules:')\n",
        "print(rsm_bland.solution)"
      ],
      "metadata": {
        "colab": {
          "base_uri": "https://localhost:8080/"
        },
        "id": "9HMHIcyC_2e8",
        "outputId": "16096b60-f99b-49eb-f556-44204dbe2b79"
      },
      "execution_count": null,
      "outputs": [
        {
          "output_type": "stream",
          "name": "stdout",
          "text": [
            "Reference SciPy Solution:\n",
            "[      0.       0.       0.       0.       0.       0.       0. 4782969.       1.       9.      81.     729.    6561.   59049.  531441.       0.]\n",
            "My solution using Dantzig’s pivoting rules:\n",
            "[      0.       0.       0.       0.       0.       0.       0. 4782969.       1.       9.      81.     729.    6561.   59049.  531441.       0.]\n",
            "My solution using Bland’s pivoting rules:\n",
            "[      0.       0.       0.       0.       0.       0.       0. 4782969.       1.       9.      81.     729.    6561.   59049.  531441.       0.]\n"
          ]
        }
      ]
    },
    {
      "cell_type": "markdown",
      "source": [
        "# Example 2: Revised simplex using random initial basis"
      ],
      "metadata": {
        "id": "B9fxF9z7AASr"
      }
    },
    {
      "cell_type": "code",
      "source": [
        "num_trials = 1000\n",
        "num_bases_visited_dantzig = []\n",
        "num_bases_visited_bland = []"
      ],
      "metadata": {
        "id": "zvgYIjp2_5vd"
      },
      "execution_count": null,
      "outputs": []
    },
    {
      "cell_type": "markdown",
      "source": [
        "# Dantzig's Pivoting Rules\n",
        "\n",
        "Enter: the smallest negative reduced cost\n",
        "\n",
        "Leave: min-theta, and if there is a min-theta tie, pick the variable with smallest index"
      ],
      "metadata": {
        "id": "5P2ghHQMANEe"
      }
    },
    {
      "cell_type": "code",
      "source": [
        "num_success = 0\n",
        "while num_success < num_trials:\n",
        "    # random column indices to form a basis\n",
        "    rnd_basis_inds = np.random.choice(A.shape[1], A.shape[0], replace=False)\n",
        "    Arb = A[:, rnd_basis_inds]\n",
        "\n",
        "    ## BFS Check\n",
        "    # 1. invertible check\n",
        "    if np.linalg.det(Arb) == 0 or np.linalg.matrix_rank(Arb) != Arb.shape[0]:\n",
        "        continue\n",
        "\n",
        "    # 2. non-negativity check\n",
        "    Arb_inv = np.linalg.inv(Arb)\n",
        "    xb = np.matmul(Arb_inv, b)\n",
        "    if np.any(xb < 0):\n",
        "        continue\n",
        "\n",
        "    # solve\n",
        "    rsm = RevisedSimplex(A, b, c, rnd_basis_inds, rule='dantzig', verbose=False)\n",
        "    result = rsm.solve()\n",
        "\n",
        "    if result == 'optimal':\n",
        "        num_bases_visited_dantzig.append(len(rsm.history_basis))\n",
        "        num_success += 1\n",
        "\n",
        "plt.figure()\n",
        "g_dantzig = sns.histplot(num_bases_visited_dantzig)\n",
        "g_dantzig.set_xlabel('Number of Bases Visited')\n",
        "g_dantzig.set_title(\"Dantzig's Pivoting Rule\")\n",
        "plt.show()"
      ],
      "metadata": {
        "colab": {
          "base_uri": "https://localhost:8080/",
          "height": 472
        },
        "id": "sIkwCcOlAIRi",
        "outputId": "453ed1c6-bdc1-4d99-fc6d-d1d436cea85e"
      },
      "execution_count": null,
      "outputs": [
        {
          "output_type": "display_data",
          "data": {
            "text/plain": [
              "<Figure size 640x480 with 1 Axes>"
            ],
            "image/png": "[encoded data removed]"
          },
          "metadata": {}
        }
      ]
    },
    {
      "cell_type": "markdown",
      "source": [
        "# Bland's Pivoting Rules\n",
        "\n",
        "Enter/Leave: Among valid, the smallest variable index"
      ],
      "metadata": {
        "id": "2lHa5AqBApcr"
      }
    },
    {
      "cell_type": "code",
      "source": [
        "num_success = 0\n",
        "while num_success < num_trials:\n",
        "    # random column indices to form a basis\n",
        "    rnd_basis_inds = np.random.choice(A.shape[1], A.shape[0], replace=False)\n",
        "    Arb = A[:, rnd_basis_inds]\n",
        "\n",
        "    ## BFS Check\n",
        "    # 1. invertible check\n",
        "    if np.linalg.det(Arb) == 0 or np.linalg.matrix_rank(Arb) != Arb.shape[0]:\n",
        "        continue\n",
        "\n",
        "    # 2. non-negativity check\n",
        "    Arb_inv = np.linalg.inv(Arb)\n",
        "    xb = np.matmul(Arb_inv, b)\n",
        "    if np.any(xb < 0):\n",
        "        continue\n",
        "\n",
        "    # solve\n",
        "    rsm = RevisedSimplex(A, b, c, rnd_basis_inds, rule='bland', verbose=False)\n",
        "    result = rsm.solve()\n",
        "\n",
        "    if result == 'optimal':\n",
        "        num_bases_visited_bland.append(len(rsm.history_basis))\n",
        "        num_success += 1\n",
        "\n",
        "plt.figure()\n",
        "g_bland = sns.histplot(num_bases_visited_bland)\n",
        "g_bland.set_xlabel('Number of Bases Visited')\n",
        "g_bland.set_title(\"Bland's Pivoting Rule\")\n",
        "plt.show()"
      ],
      "metadata": {
        "colab": {
          "base_uri": "https://localhost:8080/",
          "height": 472
        },
        "id": "qpeG7bBmAmzZ",
        "outputId": "a4689457-74e1-4779-a1b0-cb3bcbfdd8cb"
      },
      "execution_count": null,
      "outputs": [
        {
          "output_type": "display_data",
          "data": {
            "text/plain": [
              "<Figure size 640x480 with 1 Axes>"
            ],
            "image/png": "[encoded data removed]"
          },
          "metadata": {}
        }
      ]
    },
    {
      "cell_type": "code",
      "source": [],
      "metadata": {
        "id": "NZjtv4n8AvSi"
      },
      "execution_count": null,
      "outputs": []
    }
  ]
}